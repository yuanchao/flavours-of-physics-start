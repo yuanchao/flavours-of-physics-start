{
 "metadata": {
  "name": "",
  "signature": "sha256:eeb6f6b588ba76cb2f0985a64dba6d83ad982b4a48c9a58c97a2b1d03a5af234"
 },
 "nbformat": 3,
 "nbformat_minor": 0,
 "worksheets": [
  {
   "cells": [
    {
     "cell_type": "code",
     "collapsed": false,
     "input": [
      "import pandas\n",
      "import evaluation\n",
      "from hep_ml.gradientboosting import BinFlatnessLossFunction, UGradientBoostingClassifier\n"
     ],
     "language": "python",
     "metadata": {},
     "outputs": [],
     "prompt_number": 1
    },
    {
     "cell_type": "markdown",
     "metadata": {},
     "source": [
      "==This is a test==\n",
      "\n"
     ]
    },
    {
     "cell_type": "code",
     "collapsed": false,
     "input": [
      "folder = 'tau_data/'\n",
      "train = pandas.read_csv(folder + 'training.csv.zip', index_col='id')"
     ],
     "language": "python",
     "metadata": {},
     "outputs": [],
     "prompt_number": 2
    },
    {
     "cell_type": "markdown",
     "metadata": {},
     "source": [
      "test is a test!!\n"
     ]
    },
    {
     "cell_type": "code",
     "collapsed": false,
     "input": [
      "train.head()"
     ],
     "language": "python",
     "metadata": {},
     "outputs": [
      {
       "html": [
        "<div style=\"max-width:1500px;overflow:auto;\">\n",
        "<table border=\"1\" class=\"dataframe\">\n",
        "  <thead>\n",
        "    <tr style=\"text-align: right;\">\n",
        "      <th></th>\n",
        "      <th>LifeTime</th>\n",
        "      <th>dira</th>\n",
        "      <th>FlightDistance</th>\n",
        "      <th>FlightDistanceError</th>\n",
        "      <th>IP</th>\n",
        "      <th>IPSig</th>\n",
        "      <th>VertexChi2</th>\n",
        "      <th>pt</th>\n",
        "      <th>DOCAone</th>\n",
        "      <th>DOCAtwo</th>\n",
        "      <th>...</th>\n",
        "      <th>p1_p</th>\n",
        "      <th>p2_p</th>\n",
        "      <th>p0_eta</th>\n",
        "      <th>p1_eta</th>\n",
        "      <th>p2_eta</th>\n",
        "      <th>SPDhits</th>\n",
        "      <th>production</th>\n",
        "      <th>signal</th>\n",
        "      <th>mass</th>\n",
        "      <th>min_ANNmuon</th>\n",
        "    </tr>\n",
        "    <tr>\n",
        "      <th>id</th>\n",
        "      <th></th>\n",
        "      <th></th>\n",
        "      <th></th>\n",
        "      <th></th>\n",
        "      <th></th>\n",
        "      <th></th>\n",
        "      <th></th>\n",
        "      <th></th>\n",
        "      <th></th>\n",
        "      <th></th>\n",
        "      <th></th>\n",
        "      <th></th>\n",
        "      <th></th>\n",
        "      <th></th>\n",
        "      <th></th>\n",
        "      <th></th>\n",
        "      <th></th>\n",
        "      <th></th>\n",
        "      <th></th>\n",
        "      <th></th>\n",
        "      <th></th>\n",
        "    </tr>\n",
        "  </thead>\n",
        "  <tbody>\n",
        "    <tr>\n",
        "      <th>18453471</th>\n",
        "      <td>0.001578</td>\n",
        "      <td>0.999999</td>\n",
        "      <td>14.033335</td>\n",
        "      <td>0.681401</td>\n",
        "      <td>0.016039</td>\n",
        "      <td>0.451886</td>\n",
        "      <td>1.900433</td>\n",
        "      <td>1482.037476</td>\n",
        "      <td>0.066667</td>\n",
        "      <td>0.060602</td>\n",
        "      <td>...</td>\n",
        "      <td>12290.760742</td>\n",
        "      <td>39264.398438</td>\n",
        "      <td>3.076006</td>\n",
        "      <td>4.003800</td>\n",
        "      <td>4.031514</td>\n",
        "      <td>458</td>\n",
        "      <td>-99</td>\n",
        "      <td>0</td>\n",
        "      <td>1866.300049</td>\n",
        "      <td>0.277559</td>\n",
        "    </tr>\n",
        "    <tr>\n",
        "      <th>5364094</th>\n",
        "      <td>0.000988</td>\n",
        "      <td>0.999705</td>\n",
        "      <td>5.536157</td>\n",
        "      <td>0.302341</td>\n",
        "      <td>0.142163</td>\n",
        "      <td>9.564503</td>\n",
        "      <td>0.865666</td>\n",
        "      <td>3050.720703</td>\n",
        "      <td>0.024022</td>\n",
        "      <td>0.019245</td>\n",
        "      <td>...</td>\n",
        "      <td>16562.667969</td>\n",
        "      <td>7341.257812</td>\n",
        "      <td>3.228553</td>\n",
        "      <td>2.786543</td>\n",
        "      <td>2.975564</td>\n",
        "      <td>406</td>\n",
        "      <td>-99</td>\n",
        "      <td>0</td>\n",
        "      <td>1727.095947</td>\n",
        "      <td>0.225924</td>\n",
        "    </tr>\n",
        "    <tr>\n",
        "      <th>11130990</th>\n",
        "      <td>0.000877</td>\n",
        "      <td>0.999984</td>\n",
        "      <td>6.117302</td>\n",
        "      <td>0.276463</td>\n",
        "      <td>0.034746</td>\n",
        "      <td>1.970751</td>\n",
        "      <td>10.975849</td>\n",
        "      <td>3895.908691</td>\n",
        "      <td>0.055044</td>\n",
        "      <td>0.047947</td>\n",
        "      <td>...</td>\n",
        "      <td>22695.388672</td>\n",
        "      <td>10225.309570</td>\n",
        "      <td>3.536903</td>\n",
        "      <td>2.865686</td>\n",
        "      <td>3.052810</td>\n",
        "      <td>196</td>\n",
        "      <td>-99</td>\n",
        "      <td>0</td>\n",
        "      <td>1898.588013</td>\n",
        "      <td>0.368630</td>\n",
        "    </tr>\n",
        "    <tr>\n",
        "      <th>15173787</th>\n",
        "      <td>0.000854</td>\n",
        "      <td>0.999903</td>\n",
        "      <td>5.228067</td>\n",
        "      <td>0.220739</td>\n",
        "      <td>0.076389</td>\n",
        "      <td>4.271331</td>\n",
        "      <td>3.276358</td>\n",
        "      <td>4010.781738</td>\n",
        "      <td>0.053779</td>\n",
        "      <td>0.006417</td>\n",
        "      <td>...</td>\n",
        "      <td>16909.515625</td>\n",
        "      <td>9141.426758</td>\n",
        "      <td>3.087461</td>\n",
        "      <td>3.218034</td>\n",
        "      <td>2.375592</td>\n",
        "      <td>137</td>\n",
        "      <td>-99</td>\n",
        "      <td>0</td>\n",
        "      <td>1840.410034</td>\n",
        "      <td>0.246045</td>\n",
        "    </tr>\n",
        "    <tr>\n",
        "      <th>1102544</th>\n",
        "      <td>0.001129</td>\n",
        "      <td>0.999995</td>\n",
        "      <td>39.069534</td>\n",
        "      <td>1.898197</td>\n",
        "      <td>0.120936</td>\n",
        "      <td>4.984982</td>\n",
        "      <td>0.468348</td>\n",
        "      <td>4144.546875</td>\n",
        "      <td>0.004491</td>\n",
        "      <td>0.037326</td>\n",
        "      <td>...</td>\n",
        "      <td>97612.804688</td>\n",
        "      <td>47118.785156</td>\n",
        "      <td>4.632295</td>\n",
        "      <td>4.711155</td>\n",
        "      <td>4.296878</td>\n",
        "      <td>477</td>\n",
        "      <td>-99</td>\n",
        "      <td>0</td>\n",
        "      <td>1899.793945</td>\n",
        "      <td>0.222060</td>\n",
        "    </tr>\n",
        "  </tbody>\n",
        "</table>\n",
        "<p>5 rows \u00d7 50 columns</p>\n",
        "</div>"
       ],
       "metadata": {},
       "output_type": "pyout",
       "prompt_number": 3,
       "text": [
        "          LifeTime      dira  FlightDistance  FlightDistanceError        IP  \\\n",
        "id                                                                            \n",
        "18453471  0.001578  0.999999       14.033335             0.681401  0.016039   \n",
        "5364094   0.000988  0.999705        5.536157             0.302341  0.142163   \n",
        "11130990  0.000877  0.999984        6.117302             0.276463  0.034746   \n",
        "15173787  0.000854  0.999903        5.228067             0.220739  0.076389   \n",
        "1102544   0.001129  0.999995       39.069534             1.898197  0.120936   \n",
        "\n",
        "             IPSig  VertexChi2           pt   DOCAone   DOCAtwo     ...       \\\n",
        "id                                                                  ...        \n",
        "18453471  0.451886    1.900433  1482.037476  0.066667  0.060602     ...        \n",
        "5364094   9.564503    0.865666  3050.720703  0.024022  0.019245     ...        \n",
        "11130990  1.970751   10.975849  3895.908691  0.055044  0.047947     ...        \n",
        "15173787  4.271331    3.276358  4010.781738  0.053779  0.006417     ...        \n",
        "1102544   4.984982    0.468348  4144.546875  0.004491  0.037326     ...        \n",
        "\n",
        "                  p1_p          p2_p    p0_eta    p1_eta    p2_eta  SPDhits  \\\n",
        "id                                                                            \n",
        "18453471  12290.760742  39264.398438  3.076006  4.003800  4.031514      458   \n",
        "5364094   16562.667969   7341.257812  3.228553  2.786543  2.975564      406   \n",
        "11130990  22695.388672  10225.309570  3.536903  2.865686  3.052810      196   \n",
        "15173787  16909.515625   9141.426758  3.087461  3.218034  2.375592      137   \n",
        "1102544   97612.804688  47118.785156  4.632295  4.711155  4.296878      477   \n",
        "\n",
        "          production  signal         mass  min_ANNmuon  \n",
        "id                                                      \n",
        "18453471         -99       0  1866.300049     0.277559  \n",
        "5364094          -99       0  1727.095947     0.225924  \n",
        "11130990         -99       0  1898.588013     0.368630  \n",
        "15173787         -99       0  1840.410034     0.246045  \n",
        "1102544          -99       0  1899.793945     0.222060  \n",
        "\n",
        "[5 rows x 50 columns]"
       ]
      }
     ],
     "prompt_number": 3
    },
    {
     "cell_type": "code",
     "collapsed": false,
     "input": [
      "variables = ['LifeTime',\n",
      "             'FlightDistance',\n",
      "             'pt',\n",
      "             ]"
     ],
     "language": "python",
     "metadata": {},
     "outputs": [],
     "prompt_number": 4
    },
    {
     "cell_type": "markdown",
     "metadata": {},
     "source": [
      "===Training gradient boosting + FlatnessLoss===\n",
      "\n",
      "note, that in flatness loss we point\n",
      "\n",
      "* uniform_variables to be mass\n",
      "* uniform_label = 0\n",
      "\n",
      "not to get correlation between prediction and mass in background."
     ]
    },
    {
     "cell_type": "code",
     "collapsed": false,
     "input": [
      "loss = BinFlatnessLossFunction(['mass'], n_bins=15, fl_coefficient=0.1, uniform_label=0)\n",
      "baseline = UGradientBoostingClassifier(loss=loss, n_estimators=40, subsample=0.1, \n",
      "                                       max_depth=7, min_samples_leaf=10,\n",
      "                                       learning_rate=0.1, train_features=variables, random_state=11)\n",
      "baseline.fit(train[variables + ['mass']], train['signal'])"
     ],
     "language": "python",
     "metadata": {},
     "outputs": [
      {
       "output_type": "stream",
       "stream": "stderr",
       "text": [
        "/usr/local/lib/python2.7/site-packages/hep_ml/losses.py:767: RuntimeWarning: invalid value encountered in true_divide\n",
        "  return temp / numpy.bincount(terminal_regions, minlength=len(leaf_values))\n"
       ]
      },
      {
       "metadata": {},
       "output_type": "pyout",
       "prompt_number": 5,
       "text": [
        "UGradientBoostingClassifier(learning_rate=0.1,\n",
        "              loss=BinFlatnessLossFunction(allow_wrong_signs=True, fl_coefficient=0.1, n_bins=15,\n",
        "            power=2.0, uniform_features=['mass'], uniform_label=array([0])),\n",
        "              max_depth=7, max_features=None, max_leaf_nodes=None,\n",
        "              min_samples_leaf=10, min_samples_split=2, n_estimators=40,\n",
        "              random_state=<mtrand.RandomState object at 0x1146c3280>,\n",
        "              splitter='best', subsample=0.1,\n",
        "              train_features=['LifeTime', 'FlightDistance', 'pt'],\n",
        "              update_tree=True)"
       ]
      }
     ],
     "prompt_number": 5
    },
    {
     "cell_type": "heading",
     "level": 1,
     "metadata": {},
     "source": [
      "Check agreement"
     ]
    },
    {
     "cell_type": "code",
     "collapsed": false,
     "input": [
      "check_correlation = pandas.read_csv(folder + 'check_correlation.csv.zip', index_col='id')\n",
      "correlation_probs = baseline.predict_proba(check_correlation[variables])[:, 1]\n",
      "cvm = evaluation.compute_cvm(correlation_probs, check_correlation['mass'])\n",
      "print 'CvM metric', cvm, cvm < 0.002"
     ],
     "language": "python",
     "metadata": {},
     "outputs": [
      {
       "output_type": "stream",
       "stream": "stdout",
       "text": [
        "CvM metric 0.000957017516975 True\n"
       ]
      }
     ],
     "prompt_number": 7
    },
    {
     "cell_type": "heading",
     "level": 1,
     "metadata": {},
     "source": [
      "Compute weighted AUC on the training data with min_ANNmuon > 0.41"
     ]
    },
    {
     "cell_type": "code",
     "collapsed": false,
     "input": [
      "train_eval = train[train['min_ANNmuon'] > 0.4]\n",
      "train_probs = baseline.predict_proba(train_eval[variables])[:, 1]\n",
      "AUC = evaluation.roc_auc_truncated(train_eval['signal'], train_probs)\n",
      "print 'AUC', AUC"
     ],
     "language": "python",
     "metadata": {},
     "outputs": [
      {
       "output_type": "stream",
       "stream": "stdout",
       "text": [
        "AUC 0.835086081368\n"
       ]
      }
     ],
     "prompt_number": 8
    },
    {
     "cell_type": "heading",
     "level": 1,
     "metadata": {},
     "source": [
      "Predict test, create file for kaggle\u00b6"
     ]
    },
    {
     "cell_type": "code",
     "collapsed": false,
     "input": [
      "test = pandas.read_csv(folder + 'test.csv.zip', index_col='id')\n",
      "result = pandas.DataFrame({'id': test.index})\n",
      "result['prediction'] = baseline.predict_proba(test[variables])[:, 1]"
     ],
     "language": "python",
     "metadata": {},
     "outputs": [],
     "prompt_number": 10
    },
    {
     "cell_type": "code",
     "collapsed": false,
     "input": [
      "result.to_csv('baseline_flatness.csv.gz', index=False, sep=',')"
     ],
     "language": "python",
     "metadata": {},
     "outputs": [],
     "prompt_number": 12
    }
   ],
   "metadata": {}
  }
 ]
}